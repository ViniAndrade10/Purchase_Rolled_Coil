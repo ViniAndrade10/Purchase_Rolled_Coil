{
 "cells": [
  {
   "cell_type": "code",
   "execution_count": 439,
   "metadata": {},
   "outputs": [],
   "source": [
    "import pandas as pd\n",
    "import pyomo.environ as pyo\n",
    "import numpy as np\n",
    "from pathlib import Path"
   ]
  },
  {
   "cell_type": "code",
   "execution_count": 440,
   "metadata": {},
   "outputs": [],
   "source": [
    "__ROOT_PATH__ = Path(__name__).resolve().parent.parent\n",
    "input_path = __ROOT_PATH__ / \"data/RotRolledCoid_Input.xlsx\"\n",
    "output_path = __ROOT_PATH__ / \"export/bestPurchaseScenario.xlsx\""
   ]
  },
  {
   "cell_type": "code",
   "execution_count": 441,
   "metadata": {},
   "outputs": [],
   "source": [
    "df_demand = pd.read_excel(input_path, sheet_name=\"DEMAND\")\n",
    "df_offer = pd.read_excel(input_path, sheet_name=\"OFFER\")\n",
    "df_index = pd.read_excel(input_path, sheet_name=\"INDEX\")\n",
    "df_fee = pd.read_excel(input_path, sheet_name=\"FEE\")\n",
    "df_freight = pd.read_excel(input_path, sheet_name=\"FREIGHT\")\n",
    "\n",
    "# Dropping\n",
    "df_demand.drop([\"Unit\"], inplace=True, axis=1)"
   ]
  },
  {
   "attachments": {},
   "cell_type": "markdown",
   "metadata": {},
   "source": [
    "## Dataset Treamentments"
   ]
  },
  {
   "cell_type": "code",
   "execution_count": 442,
   "metadata": {},
   "outputs": [],
   "source": [
    "df_demand = df_demand.melt(\n",
    "    id_vars=[\"Rolled_Coil_Dim\", \"Factory\"], \n",
    "    var_name=\"Period\", \n",
    "    value_name=\"Demand\"\n",
    "    )"
   ]
  },
  {
   "cell_type": "code",
   "execution_count": 443,
   "metadata": {},
   "outputs": [],
   "source": [
    "df_offer = df_offer.melt(\n",
    "    id_vars=[\"Rolled_Coil_Dim\", \"Suppliers\"], \n",
    "    var_name=\"Period\", \n",
    "    value_name=\"Offer\"\n",
    "    )"
   ]
  },
  {
   "cell_type": "code",
   "execution_count": 444,
   "metadata": {},
   "outputs": [],
   "source": [
    "df_freight = df_freight.melt(\n",
    "    id_vars=[\"Supplier\", \"Factory\"], \n",
    "    var_name=\"Freight_Type\", \n",
    "    value_name=\"Freight_Price\")"
   ]
  },
  {
   "attachments": {},
   "cell_type": "markdown",
   "metadata": {},
   "source": [
    "## Building Model"
   ]
  },
  {
   "cell_type": "code",
   "execution_count": 445,
   "metadata": {},
   "outputs": [],
   "source": [
    "model = pyo.ConcreteModel()"
   ]
  },
  {
   "attachments": {},
   "cell_type": "markdown",
   "metadata": {},
   "source": [
    "## Defining Sets"
   ]
  },
  {
   "cell_type": "code",
   "execution_count": 446,
   "metadata": {},
   "outputs": [],
   "source": [
    "period = df_demand[\"Period\"].unique()\n",
    "factory = df_demand[\"Factory\"].unique()\n",
    "freight = df_freight[\"Freight_Type\"].unique()\n",
    "supplier = df_offer[\"Suppliers\"].unique()\n",
    "dimension = df_demand[\"Rolled_Coil_Dim\"].unique()"
   ]
  },
  {
   "cell_type": "code",
   "execution_count": 447,
   "metadata": {},
   "outputs": [],
   "source": [
    "model.period = pyo.Set(initialize=period)\n",
    "model.factory = pyo.Set(initialize=factory)\n",
    "model.freight_type = pyo.Set(initialize=freight)\n",
    "model.supplier = pyo.Set(initialize=supplier)\n",
    "model.dimension = pyo.Set(initialize=dimension)"
   ]
  },
  {
   "attachments": {},
   "cell_type": "markdown",
   "metadata": {},
   "source": [
    "## Defining Parameters"
   ]
  },
  {
   "cell_type": "code",
   "execution_count": 448,
   "metadata": {},
   "outputs": [],
   "source": [
    "demand_param = df_demand.set_index([\"Rolled_Coil_Dim\", \"Factory\", \"Period\"]).to_dict()[\"Demand\"]\n",
    "offer_param = df_offer.set_index([\"Rolled_Coil_Dim\", \"Suppliers\", \"Period\"]).to_dict()[\"Offer\"]\n",
    "commodity_price = df_index.set_index([\"Period\"]).to_dict()[\"Rolled_Coil_Index\"]\n",
    "usd_brl = df_index.set_index([\"Period\"]).to_dict()[\"Dolar_Value\"]\n",
    "fee = df_fee.set_index([\"Rolled_Coil_Dim\", \"Supplier\"]).to_dict()[\"Fee\"]\n",
    "freight = df_freight.set_index([\"Supplier\", \"Factory\", \"Freight_Type\"]).to_dict()[\"Freight_Price\"]"
   ]
  },
  {
   "cell_type": "code",
   "execution_count": 449,
   "metadata": {},
   "outputs": [],
   "source": [
    "model.demand = pyo.Param(model.dimension, model.factory, model.period, initialize=demand_param)\n",
    "model.offer = pyo.Param(model.dimension, model.supplier, model.period, initialize=offer_param)\n",
    "model.commodity_price = pyo.Param(model.period, initialize=commodity_price)\n",
    "model.usd_brl = pyo.Param(model.period, initialize=usd_brl)\n",
    "model.fee = pyo.Param(model.dimension, model.supplier, initialize=fee)\n",
    "model.freight = pyo.Param(model.supplier, model.factory, model.freight_type, initialize=freight)"
   ]
  },
  {
   "attachments": {},
   "cell_type": "markdown",
   "metadata": {},
   "source": [
    "## Defining Variables"
   ]
  },
  {
   "cell_type": "code",
   "execution_count": 450,
   "metadata": {},
   "outputs": [],
   "source": [
    "model.x = pyo.Var(model.dimension, model.factory, model.period, model.supplier, within=pyo.NonNegativeReals)\n",
    "model.binDecisionSupplier = pyo.Var(model.dimension, model.factory, model.period, model.supplier, within=pyo.Binary)\n",
    "model.artifitial = pyo.Var(model.dimension, model.factory, model.period, model.supplier, within=pyo.NonNegativeReals)"
   ]
  },
  {
   "attachments": {},
   "cell_type": "markdown",
   "metadata": {},
   "source": [
    "## Building Constraints"
   ]
  },
  {
   "cell_type": "code",
   "execution_count": 451,
   "metadata": {},
   "outputs": [],
   "source": [
    "def demandSupply(model, d, f, p):\n",
    "    return sum(\n",
    "        model.x[d, f, p, s]\n",
    "        for s in model.supplier\n",
    "        ) >= model.demand[d, f, p]\n",
    "\n",
    "model.demandSupply = pyo.Constraint(\n",
    "    model.dimension, \n",
    "    model.factory, \n",
    "    model.period, \n",
    "    rule=demandSupply\n",
    "    )"
   ]
  },
  {
   "cell_type": "code",
   "execution_count": 452,
   "metadata": {},
   "outputs": [],
   "source": [
    "def offerLimit(model, d, f, p, s):\n",
    "    return model.x[d, f, p, s] <= model.offer(d, s, p)\n",
    "\n",
    "model.offerLimit = pyo.Constraint(\n",
    "    model.dimension,\n",
    "    model.factory,\n",
    "    model.period,\n",
    "    model.supplier\n",
    "    )"
   ]
  },
  {
   "cell_type": "code",
   "execution_count": 453,
   "metadata": {},
   "outputs": [],
   "source": [
    "def decisionSupply(model, d, f, p, s):\n",
    "    bigM = model.demand[d, f, p]\n",
    "    return model.x[d, f, p, s] <= model.binDecisionSupplier[d, f, p, s] * bigM\n",
    "\n",
    "model.decisionSupply = pyo.Constraint(\n",
    "    model.dimension,\n",
    "    model.factory,\n",
    "    model.period,\n",
    "    model.supplier,\n",
    "    rule=decisionSupply\n",
    ")"
   ]
  },
  {
   "attachments": {},
   "cell_type": "markdown",
   "metadata": {},
   "source": [
    "## Building Objective Function"
   ]
  },
  {
   "cell_type": "code",
   "execution_count": 454,
   "metadata": {},
   "outputs": [],
   "source": [
    "def getPrice(model, p):\n",
    "    commodity_price = model.commodity_price[p]\n",
    "    dolar = model.usd_brl[p]\n",
    "    index_price = commodity_price * dolar\n",
    "    return index_price\n",
    "\n",
    "def getFee(model, d, s):\n",
    "    fee = model.fee[d, s]\n",
    "    return fee\n",
    "\n",
    "def getFreight(model):\n",
    "    INFINITY = 10000000\n",
    "    for s in model.supplier:\n",
    "        for f in model.factory:\n",
    "            for t in model.freight_type:\n",
    "                if model.freight[s, f, t] > 0:\n",
    "                    return model.freight[s, f, t]\n",
    "                else:\n",
    "                    return INFINITY"
   ]
  },
  {
   "cell_type": "code",
   "execution_count": 455,
   "metadata": {},
   "outputs": [],
   "source": [
    "def makePrice(model, d, s, p):\n",
    "    index_price = getPrice(model, p)\n",
    "    fee = getFee(model, d, s)\n",
    "    freight = getFreight(model)\n",
    "    value = ((index_price * fee) + index_price) + freight\n",
    "    return value"
   ]
  },
  {
   "attachments": {},
   "cell_type": "markdown",
   "metadata": {},
   "source": [
    "### Objetive Function"
   ]
  },
  {
   "cell_type": "code",
   "execution_count": 456,
   "metadata": {},
   "outputs": [],
   "source": [
    "def objetiveFunction(model):\n",
    "    return sum(\n",
    "        (model.x[d, f, p ,s] * makePrice(model, d, s, p)) + (model.artifitial[d, f, p ,s] * 100000)\n",
    "        for d in model.dimension\n",
    "        for f in model.factory\n",
    "        for p in model.period\n",
    "        for s in model.supplier\n",
    "        )\n",
    "\n",
    "model.objetiveFunction = pyo.Objective(\n",
    "    rule=objetiveFunction, sense=pyo.minimize\n",
    "    )"
   ]
  },
  {
   "attachments": {},
   "cell_type": "markdown",
   "metadata": {},
   "source": [
    "## Solving Model"
   ]
  },
  {
   "cell_type": "code",
   "execution_count": 457,
   "metadata": {},
   "outputs": [
    {
     "data": {
      "text/plain": [
       "{'Problem': [{'Name': 'unknown', 'Lower bound': 652513929.404497, 'Upper bound': 652513929.404497, 'Number of objectives': 1, 'Number of constraints': 720, 'Number of variables': 1728, 'Number of nonzeros': 1728, 'Sense': 'minimize'}], 'Solver': [{'Status': 'ok', 'Termination condition': 'optimal', 'Statistics': {'Branch and bound': {'Number of bounded subproblems': '1', 'Number of created subproblems': '1'}}, 'Error rc': 0, 'Time': 0.0674598217010498}], 'Solution': [OrderedDict([('number of solutions', 0), ('number of solutions displayed', 0)])]}"
      ]
     },
     "execution_count": 457,
     "metadata": {},
     "output_type": "execute_result"
    }
   ],
   "source": [
    "solver = pyo.SolverFactory(\"glpk\")\n",
    "solver.solve(model)"
   ]
  },
  {
   "cell_type": "code",
   "execution_count": 458,
   "metadata": {},
   "outputs": [],
   "source": [
    "output_generic = [\n",
    "    [i[0], i[1], i[2], i[3], \n",
    "    model.x[i].value,model.commodity_price[i[2]], \n",
    "    model.usd_brl[i[2]], model.fee[i[0], i[3]]]\n",
    "    for i in model.x\n",
    "    if model.x[i].value > 0\n",
    "]"
   ]
  },
  {
   "cell_type": "code",
   "execution_count": 459,
   "metadata": {},
   "outputs": [],
   "source": [
    "columns = [\"Dimension\", \"Factory\", \"Period\", \n",
    " \"Supplier\", 'Quantity', \"Price_Commodity\", \n",
    " \"Dolar\", \"Fee\"]\n",
    "\n",
    "intermediate_df = pd.DataFrame(output_generic, columns=columns)"
   ]
  },
  {
   "cell_type": "code",
   "execution_count": 460,
   "metadata": {},
   "outputs": [],
   "source": [
    "freight_values_list = list()\n",
    "freight_type_list = list()\n",
    "\n",
    "for i in range(len(intermediate_df)):\n",
    "    supplier = intermediate_df.loc[i, \"Supplier\"]\n",
    "    factory = intermediate_df.loc[i, \"Factory\"]\n",
    "\n",
    "    freight_price = df_freight[\n",
    "        (df_freight[\"Supplier\"]==supplier) \n",
    "        & (df_freight[\"Factory\"]==factory) \n",
    "        & (df_freight[\"Freight_Price\"] > 0)][\"Freight_Price\"].values[0]\n",
    "    freight_type = df_freight[\n",
    "        (df_freight[\"Supplier\"]==supplier) \n",
    "        & (df_freight[\"Factory\"]==factory) \n",
    "        & (df_freight[\"Freight_Price\"] > 0)][\"Freight_Type\"].values[0]\n",
    "    freight_values_list.append(freight_price)\n",
    "    freight_type_list.append(freight_type)"
   ]
  },
  {
   "cell_type": "code",
   "execution_count": 461,
   "metadata": {},
   "outputs": [],
   "source": [
    "output_df = intermediate_df.copy()\n",
    "output_df[\"Freight_type\"] = freight_type_list\n",
    "output_df[\"Freight_price\"] = freight_values_list"
   ]
  },
  {
   "cell_type": "code",
   "execution_count": 462,
   "metadata": {},
   "outputs": [],
   "source": [
    "with pd.ExcelWriter(output_path) as writer:\n",
    "    output_df.to_excel(\n",
    "        excel_writer=writer,\n",
    "        sheet_name=\"Purchase_Scenario\",\n",
    "        index = False\n",
    "    )"
   ]
  }
 ],
 "metadata": {
  "kernelspec": {
   "display_name": ".venv",
   "language": "python",
   "name": "python3"
  },
  "language_info": {
   "codemirror_mode": {
    "name": "ipython",
    "version": 3
   },
   "file_extension": ".py",
   "mimetype": "text/x-python",
   "name": "python",
   "nbconvert_exporter": "python",
   "pygments_lexer": "ipython3",
   "version": "3.11.0"
  },
  "orig_nbformat": 4
 },
 "nbformat": 4,
 "nbformat_minor": 2
}
